{
  "nbformat": 4,
  "nbformat_minor": 0,
  "metadata": {
    "colab": {
      "name": "Text Generation.ipynb",
      "provenance": [],
      "collapsed_sections": [],
      "authorship_tag": "ABX9TyPpR87cXSgswwXS9vRJkBte",
      "include_colab_link": true
    },
    "kernelspec": {
      "name": "python3",
      "display_name": "Python 3"
    },
    "language_info": {
      "name": "python"
    },
    "accelerator": "GPU"
  },
  "cells": [
    {
      "cell_type": "markdown",
      "metadata": {
        "id": "view-in-github",
        "colab_type": "text"
      },
      "source": [
        "<a href=\"https://colab.research.google.com/github/souravmsi/Text-Generation/blob/main/Text_Generation.ipynb\" target=\"_parent\"><img src=\"https://colab.research.google.com/assets/colab-badge.svg\" alt=\"Open In Colab\"/></a>"
      ]
    },
    {
      "cell_type": "code",
      "metadata": {
        "colab": {
          "base_uri": "https://localhost:8080/"
        },
        "id": "qC1RqPNGqu9g",
        "outputId": "1d9db47f-53f3-4780-996f-77bb9c53c47a"
      },
      "source": [
        "!wget https://www.gutenberg.org/files/1661/1661-0.txt -O book.txt"
      ],
      "execution_count": 2,
      "outputs": [
        {
          "output_type": "stream",
          "text": [
            "--2021-07-16 15:33:13--  https://www.gutenberg.org/files/1661/1661-0.txt\n",
            "Resolving www.gutenberg.org (www.gutenberg.org)... 152.19.134.47, 2610:28:3090:3000:0:bad:cafe:47\n",
            "Connecting to www.gutenberg.org (www.gutenberg.org)|152.19.134.47|:443... connected.\n",
            "HTTP request sent, awaiting response... 200 OK\n",
            "Length: 607430 (593K) [text/plain]\n",
            "Saving to: ‘book.txt’\n",
            "\n",
            "book.txt            100%[===================>] 593.19K  --.-KB/s    in 0.06s   \n",
            "\n",
            "2021-07-16 15:33:13 (10.0 MB/s) - ‘book.txt’ saved [607430/607430]\n",
            "\n"
          ],
          "name": "stdout"
        }
      ]
    },
    {
      "cell_type": "code",
      "metadata": {
        "id": "AGkdlY8wrFvu"
      },
      "source": [
        "text = open('book.txt', 'r', encoding = 'utf-8').read()\n",
        "text = text.lower()"
      ],
      "execution_count": 3,
      "outputs": []
    },
    {
      "cell_type": "code",
      "metadata": {
        "id": "3hdo2DOGrYWM"
      },
      "source": [
        "sentences = text.split('\\n')"
      ],
      "execution_count": 5,
      "outputs": []
    },
    {
      "cell_type": "code",
      "metadata": {
        "id": "1_zzAsJereiB"
      },
      "source": [
        "import tensorflow as tf\n",
        "import keras\n",
        "from keras_preprocessing.text import Tokenizer\n",
        "from keras.preprocessing.sequence import pad_sequences"
      ],
      "execution_count": 6,
      "outputs": []
    },
    {
      "cell_type": "code",
      "metadata": {
        "id": "hNEygkMJrpCX"
      },
      "source": [
        "tokenizer = Tokenizer(oov_token='<UNK>')"
      ],
      "execution_count": 7,
      "outputs": []
    },
    {
      "cell_type": "code",
      "metadata": {
        "id": "vA5O0bF7s-7c"
      },
      "source": [
        "tokenizer.fit_on_texts(sentences)"
      ],
      "execution_count": 8,
      "outputs": []
    },
    {
      "cell_type": "code",
      "metadata": {
        "colab": {
          "base_uri": "https://localhost:8080/"
        },
        "id": "r02WMZA_tpa7",
        "outputId": "2252d51e-beb6-421f-dbb4-dc1bf8eda8b8"
      },
      "source": [
        "vocab_size = len(tokenizer.word_index) + 1\n",
        "vocab_size"
      ],
      "execution_count": 9,
      "outputs": [
        {
          "output_type": "execute_result",
          "data": {
            "text/plain": [
              "8915"
            ]
          },
          "metadata": {
            "tags": []
          },
          "execution_count": 9
        }
      ]
    },
    {
      "cell_type": "code",
      "metadata": {
        "id": "jJDq95NwtyZ5"
      },
      "source": [
        "sequences = tokenizer.texts_to_sequences(sentences)"
      ],
      "execution_count": 10,
      "outputs": []
    },
    {
      "cell_type": "code",
      "metadata": {
        "id": "UT73-6bquSQK"
      },
      "source": [
        "input_sequences = []\n",
        "for sequence in sequences:\n",
        "  for i in range(1, len(sequence)):\n",
        "    n_gram_sequence = sequence[:i+1]\n",
        "    input_sequences.append(n_gram_sequence)"
      ],
      "execution_count": 11,
      "outputs": []
    },
    {
      "cell_type": "code",
      "metadata": {
        "colab": {
          "base_uri": "https://localhost:8080/"
        },
        "id": "eiou4V_Rvx7M",
        "outputId": "4216004c-cd9d-4b2f-ed61-4a2995ed2362"
      },
      "source": [
        "print(input_sequences[0:2])"
      ],
      "execution_count": 12,
      "outputs": [
        {
          "output_type": "stream",
          "text": [
            "[[4775, 145], [4775, 145, 132]]\n"
          ],
          "name": "stdout"
        }
      ]
    },
    {
      "cell_type": "code",
      "metadata": {
        "colab": {
          "base_uri": "https://localhost:8080/"
        },
        "id": "Q1lDdx_9v57B",
        "outputId": "eb1cb6ac-2b62-4e1c-aeb9-0cbb5294876f"
      },
      "source": [
        "print(sequences[0:2])"
      ],
      "execution_count": 13,
      "outputs": [
        {
          "output_type": "stream",
          "text": [
            "[[4775, 145, 132, 886, 5, 2, 1093, 5, 130, 35, 46, 656, 2661, 2662], []]\n"
          ],
          "name": "stdout"
        }
      ]
    },
    {
      "cell_type": "code",
      "metadata": {
        "colab": {
          "base_uri": "https://localhost:8080/"
        },
        "id": "5X_U2aS9xqIy",
        "outputId": "d08593fc-7c40-4194-8de5-a8bea4eed33a"
      },
      "source": [
        "max_seq_len = max([len(seq) for seq in input_sequences])\n",
        "max_seq_len"
      ],
      "execution_count": 14,
      "outputs": [
        {
          "output_type": "execute_result",
          "data": {
            "text/plain": [
              "20"
            ]
          },
          "metadata": {
            "tags": []
          },
          "execution_count": 14
        }
      ]
    },
    {
      "cell_type": "code",
      "metadata": {
        "id": "P8c6Fjxi2z2y"
      },
      "source": [
        "padded_sequences = pad_sequences(input_sequences, max_seq_len)"
      ],
      "execution_count": 15,
      "outputs": []
    },
    {
      "cell_type": "code",
      "metadata": {
        "colab": {
          "base_uri": "https://localhost:8080/"
        },
        "id": "xqnju6Kb3Djz",
        "outputId": "963c1710-ad08-4883-9da6-da9976098464"
      },
      "source": [
        "print(padded_sequences[0:2])"
      ],
      "execution_count": 16,
      "outputs": [
        {
          "output_type": "stream",
          "text": [
            "[[   0    0    0    0    0    0    0    0    0    0    0    0    0    0\n",
            "     0    0    0    0 4775  145]\n",
            " [   0    0    0    0    0    0    0    0    0    0    0    0    0    0\n",
            "     0    0    0 4775  145  132]]\n"
          ],
          "name": "stdout"
        }
      ]
    },
    {
      "cell_type": "code",
      "metadata": {
        "id": "n-UaPVor3LVt"
      },
      "source": [
        "import numpy as np\n",
        "padded_sequences = np.array(padded_sequences)"
      ],
      "execution_count": 17,
      "outputs": []
    },
    {
      "cell_type": "code",
      "metadata": {
        "id": "hG8J7rMJ4WhG"
      },
      "source": [
        "x = padded_sequences[:,:-1]\n",
        "labels = padded_sequences[:,-1]"
      ],
      "execution_count": 18,
      "outputs": []
    },
    {
      "cell_type": "code",
      "metadata": {
        "id": "v33l2u5c4ghm"
      },
      "source": [
        "y = tf.keras.utils.to_categorical(labels, num_classes=vocab_size)"
      ],
      "execution_count": 19,
      "outputs": []
    },
    {
      "cell_type": "code",
      "metadata": {
        "colab": {
          "base_uri": "https://localhost:8080/"
        },
        "id": "0PITo7-n47id",
        "outputId": "fb4a3afe-84b8-48c9-e13e-713ed580ab61"
      },
      "source": [
        "y.shape"
      ],
      "execution_count": 20,
      "outputs": [
        {
          "output_type": "execute_result",
          "data": {
            "text/plain": [
              "(101575, 8915)"
            ]
          },
          "metadata": {
            "tags": []
          },
          "execution_count": 20
        }
      ]
    },
    {
      "cell_type": "code",
      "metadata": {
        "colab": {
          "base_uri": "https://localhost:8080/"
        },
        "id": "7rmeMRP65Oer",
        "outputId": "f6f92841-a9bd-4b0b-971e-3384534a95a2"
      },
      "source": [
        "x.shape"
      ],
      "execution_count": 21,
      "outputs": [
        {
          "output_type": "execute_result",
          "data": {
            "text/plain": [
              "(101575, 19)"
            ]
          },
          "metadata": {
            "tags": []
          },
          "execution_count": 21
        }
      ]
    },
    {
      "cell_type": "code",
      "metadata": {
        "id": "wmp144jP5jqf"
      },
      "source": [
        " from tensorflow.keras.models import Sequential\n",
        " from tensorflow.keras.layers import Embedding, Bidirectional, LSTM, Dense\n",
        " from tensorflow.keras.optimizers import Adam"
      ],
      "execution_count": 22,
      "outputs": []
    },
    {
      "cell_type": "code",
      "metadata": {
        "colab": {
          "base_uri": "https://localhost:8080/"
        },
        "id": "HAquUNXh6fPj",
        "outputId": "16277d7a-e94f-40a8-d32a-4d3ccadcec84"
      },
      "source": [
        "model = Sequential()\n",
        "model.add(Embedding(vocab_size, 100, input_length=max_seq_len-1))\n",
        "model.add(Bidirectional(LSTM(256)))\n",
        "model.add(Dense(vocab_size, activation='softmax'))\n",
        "adam = Adam(learning_rate=0.01)\n",
        "model.compile(loss='categorical_crossentropy', optimizer = adam, metrics=['acc'])\n",
        "model.summary()"
      ],
      "execution_count": 23,
      "outputs": [
        {
          "output_type": "stream",
          "text": [
            "Model: \"sequential\"\n",
            "_________________________________________________________________\n",
            "Layer (type)                 Output Shape              Param #   \n",
            "=================================================================\n",
            "embedding (Embedding)        (None, 19, 100)           891500    \n",
            "_________________________________________________________________\n",
            "bidirectional (Bidirectional (None, 512)               731136    \n",
            "_________________________________________________________________\n",
            "dense (Dense)                (None, 8915)              4573395   \n",
            "=================================================================\n",
            "Total params: 6,196,031\n",
            "Trainable params: 6,196,031\n",
            "Non-trainable params: 0\n",
            "_________________________________________________________________\n"
          ],
          "name": "stdout"
        }
      ]
    },
    {
      "cell_type": "code",
      "metadata": {
        "id": "LSN6UvI_7f8L"
      },
      "source": [
        "from tensorflow.keras.callbacks import EarlyStopping\n",
        "es = EarlyStopping(monitor='val_acc', min_delta=0.01)"
      ],
      "execution_count": 24,
      "outputs": []
    },
    {
      "cell_type": "code",
      "metadata": {
        "colab": {
          "base_uri": "https://localhost:8080/"
        },
        "id": "b-ustyGX8hNZ",
        "outputId": "b8ebca6a-0795-4c98-924a-3db394e3de26"
      },
      "source": [
        "model.fit(x, y, epochs=50, verbose=1, batch_size=512, callbacks=[es])"
      ],
      "execution_count": 25,
      "outputs": [
        {
          "output_type": "stream",
          "text": [
            "Epoch 1/50\n",
            "199/199 [==============================] - 17s 43ms/step - loss: 6.1958 - acc: 0.0855\n",
            "WARNING:tensorflow:Early stopping conditioned on metric `val_acc` which is not available. Available metrics are: loss,acc\n",
            "Epoch 2/50\n",
            "199/199 [==============================] - 8s 43ms/step - loss: 5.3034 - acc: 0.1432\n",
            "WARNING:tensorflow:Early stopping conditioned on metric `val_acc` which is not available. Available metrics are: loss,acc\n",
            "Epoch 3/50\n",
            "199/199 [==============================] - 8s 42ms/step - loss: 4.7675 - acc: 0.1726\n",
            "WARNING:tensorflow:Early stopping conditioned on metric `val_acc` which is not available. Available metrics are: loss,acc\n",
            "Epoch 4/50\n",
            "199/199 [==============================] - 8s 43ms/step - loss: 4.2551 - acc: 0.2008\n",
            "WARNING:tensorflow:Early stopping conditioned on metric `val_acc` which is not available. Available metrics are: loss,acc\n",
            "Epoch 5/50\n",
            "199/199 [==============================] - 9s 43ms/step - loss: 3.7589 - acc: 0.2434\n",
            "WARNING:tensorflow:Early stopping conditioned on metric `val_acc` which is not available. Available metrics are: loss,acc\n",
            "Epoch 6/50\n",
            "199/199 [==============================] - 9s 43ms/step - loss: 3.3119 - acc: 0.2960\n",
            "WARNING:tensorflow:Early stopping conditioned on metric `val_acc` which is not available. Available metrics are: loss,acc\n",
            "Epoch 7/50\n",
            "199/199 [==============================] - 9s 43ms/step - loss: 2.9312 - acc: 0.3514\n",
            "WARNING:tensorflow:Early stopping conditioned on metric `val_acc` which is not available. Available metrics are: loss,acc\n",
            "Epoch 8/50\n",
            "199/199 [==============================] - 9s 43ms/step - loss: 2.6254 - acc: 0.4026\n",
            "WARNING:tensorflow:Early stopping conditioned on metric `val_acc` which is not available. Available metrics are: loss,acc\n",
            "Epoch 9/50\n",
            "199/199 [==============================] - 8s 43ms/step - loss: 2.3750 - acc: 0.4468\n",
            "WARNING:tensorflow:Early stopping conditioned on metric `val_acc` which is not available. Available metrics are: loss,acc\n",
            "Epoch 10/50\n",
            "199/199 [==============================] - 9s 43ms/step - loss: 2.1634 - acc: 0.4847\n",
            "WARNING:tensorflow:Early stopping conditioned on metric `val_acc` which is not available. Available metrics are: loss,acc\n",
            "Epoch 11/50\n",
            "199/199 [==============================] - 8s 43ms/step - loss: 1.9909 - acc: 0.5166\n",
            "WARNING:tensorflow:Early stopping conditioned on metric `val_acc` which is not available. Available metrics are: loss,acc\n",
            "Epoch 12/50\n",
            "199/199 [==============================] - 9s 43ms/step - loss: 1.8529 - acc: 0.5439\n",
            "WARNING:tensorflow:Early stopping conditioned on metric `val_acc` which is not available. Available metrics are: loss,acc\n",
            "Epoch 13/50\n",
            "199/199 [==============================] - 9s 43ms/step - loss: 1.7332 - acc: 0.5678\n",
            "WARNING:tensorflow:Early stopping conditioned on metric `val_acc` which is not available. Available metrics are: loss,acc\n",
            "Epoch 14/50\n",
            "199/199 [==============================] - 9s 43ms/step - loss: 1.6389 - acc: 0.5869\n",
            "WARNING:tensorflow:Early stopping conditioned on metric `val_acc` which is not available. Available metrics are: loss,acc\n",
            "Epoch 15/50\n",
            "199/199 [==============================] - 8s 43ms/step - loss: 1.5574 - acc: 0.6056\n",
            "WARNING:tensorflow:Early stopping conditioned on metric `val_acc` which is not available. Available metrics are: loss,acc\n",
            "Epoch 16/50\n",
            "199/199 [==============================] - 9s 43ms/step - loss: 1.4956 - acc: 0.6174\n",
            "WARNING:tensorflow:Early stopping conditioned on metric `val_acc` which is not available. Available metrics are: loss,acc\n",
            "Epoch 17/50\n",
            "199/199 [==============================] - 9s 43ms/step - loss: 1.4360 - acc: 0.6292\n",
            "WARNING:tensorflow:Early stopping conditioned on metric `val_acc` which is not available. Available metrics are: loss,acc\n",
            "Epoch 18/50\n",
            "199/199 [==============================] - 9s 43ms/step - loss: 1.3782 - acc: 0.6422\n",
            "WARNING:tensorflow:Early stopping conditioned on metric `val_acc` which is not available. Available metrics are: loss,acc\n",
            "Epoch 19/50\n",
            "199/199 [==============================] - 9s 43ms/step - loss: 1.3386 - acc: 0.6507\n",
            "WARNING:tensorflow:Early stopping conditioned on metric `val_acc` which is not available. Available metrics are: loss,acc\n",
            "Epoch 20/50\n",
            "199/199 [==============================] - 9s 43ms/step - loss: 1.3223 - acc: 0.6511\n",
            "WARNING:tensorflow:Early stopping conditioned on metric `val_acc` which is not available. Available metrics are: loss,acc\n",
            "Epoch 21/50\n",
            "199/199 [==============================] - 9s 43ms/step - loss: 1.3112 - acc: 0.6548\n",
            "WARNING:tensorflow:Early stopping conditioned on metric `val_acc` which is not available. Available metrics are: loss,acc\n",
            "Epoch 22/50\n",
            "199/199 [==============================] - 9s 43ms/step - loss: 1.3049 - acc: 0.6519\n",
            "WARNING:tensorflow:Early stopping conditioned on metric `val_acc` which is not available. Available metrics are: loss,acc\n",
            "Epoch 23/50\n",
            "199/199 [==============================] - 9s 43ms/step - loss: 1.2743 - acc: 0.6603\n",
            "WARNING:tensorflow:Early stopping conditioned on metric `val_acc` which is not available. Available metrics are: loss,acc\n",
            "Epoch 24/50\n",
            "199/199 [==============================] - 9s 43ms/step - loss: 1.2460 - acc: 0.6658\n",
            "WARNING:tensorflow:Early stopping conditioned on metric `val_acc` which is not available. Available metrics are: loss,acc\n",
            "Epoch 25/50\n",
            "199/199 [==============================] - 9s 43ms/step - loss: 1.2207 - acc: 0.6721\n",
            "WARNING:tensorflow:Early stopping conditioned on metric `val_acc` which is not available. Available metrics are: loss,acc\n",
            "Epoch 26/50\n",
            "199/199 [==============================] - 9s 43ms/step - loss: 1.1952 - acc: 0.6774\n",
            "WARNING:tensorflow:Early stopping conditioned on metric `val_acc` which is not available. Available metrics are: loss,acc\n",
            "Epoch 27/50\n",
            "199/199 [==============================] - 9s 43ms/step - loss: 1.2061 - acc: 0.6739\n",
            "WARNING:tensorflow:Early stopping conditioned on metric `val_acc` which is not available. Available metrics are: loss,acc\n",
            "Epoch 28/50\n",
            "199/199 [==============================] - 9s 43ms/step - loss: 1.2178 - acc: 0.6703\n",
            "WARNING:tensorflow:Early stopping conditioned on metric `val_acc` which is not available. Available metrics are: loss,acc\n",
            "Epoch 29/50\n",
            "199/199 [==============================] - 9s 44ms/step - loss: 1.1784 - acc: 0.6795\n",
            "WARNING:tensorflow:Early stopping conditioned on metric `val_acc` which is not available. Available metrics are: loss,acc\n",
            "Epoch 30/50\n",
            "199/199 [==============================] - 9s 43ms/step - loss: 1.1640 - acc: 0.6839\n",
            "WARNING:tensorflow:Early stopping conditioned on metric `val_acc` which is not available. Available metrics are: loss,acc\n",
            "Epoch 31/50\n",
            "199/199 [==============================] - 9s 43ms/step - loss: 1.1491 - acc: 0.6863\n",
            "WARNING:tensorflow:Early stopping conditioned on metric `val_acc` which is not available. Available metrics are: loss,acc\n",
            "Epoch 32/50\n",
            "199/199 [==============================] - 9s 43ms/step - loss: 1.1467 - acc: 0.6861\n",
            "WARNING:tensorflow:Early stopping conditioned on metric `val_acc` which is not available. Available metrics are: loss,acc\n",
            "Epoch 33/50\n",
            "199/199 [==============================] - 9s 43ms/step - loss: 1.1582 - acc: 0.6822\n",
            "WARNING:tensorflow:Early stopping conditioned on metric `val_acc` which is not available. Available metrics are: loss,acc\n",
            "Epoch 34/50\n",
            "199/199 [==============================] - 9s 43ms/step - loss: 1.1587 - acc: 0.6814\n",
            "WARNING:tensorflow:Early stopping conditioned on metric `val_acc` which is not available. Available metrics are: loss,acc\n",
            "Epoch 35/50\n",
            "199/199 [==============================] - 9s 43ms/step - loss: 1.1551 - acc: 0.6819\n",
            "WARNING:tensorflow:Early stopping conditioned on metric `val_acc` which is not available. Available metrics are: loss,acc\n",
            "Epoch 36/50\n",
            "199/199 [==============================] - 9s 43ms/step - loss: 1.1666 - acc: 0.6804\n",
            "WARNING:tensorflow:Early stopping conditioned on metric `val_acc` which is not available. Available metrics are: loss,acc\n",
            "Epoch 37/50\n",
            "199/199 [==============================] - 9s 43ms/step - loss: 1.1786 - acc: 0.6761\n",
            "WARNING:tensorflow:Early stopping conditioned on metric `val_acc` which is not available. Available metrics are: loss,acc\n",
            "Epoch 38/50\n",
            "199/199 [==============================] - 8s 43ms/step - loss: 1.1608 - acc: 0.6802\n",
            "WARNING:tensorflow:Early stopping conditioned on metric `val_acc` which is not available. Available metrics are: loss,acc\n",
            "Epoch 39/50\n",
            "199/199 [==============================] - 9s 43ms/step - loss: 1.1445 - acc: 0.6838\n",
            "WARNING:tensorflow:Early stopping conditioned on metric `val_acc` which is not available. Available metrics are: loss,acc\n",
            "Epoch 40/50\n",
            "199/199 [==============================] - 9s 43ms/step - loss: 1.1351 - acc: 0.6864\n",
            "WARNING:tensorflow:Early stopping conditioned on metric `val_acc` which is not available. Available metrics are: loss,acc\n",
            "Epoch 41/50\n",
            "199/199 [==============================] - 9s 43ms/step - loss: 1.1290 - acc: 0.6878\n",
            "WARNING:tensorflow:Early stopping conditioned on metric `val_acc` which is not available. Available metrics are: loss,acc\n",
            "Epoch 42/50\n",
            "199/199 [==============================] - 8s 43ms/step - loss: 1.1072 - acc: 0.6930\n",
            "WARNING:tensorflow:Early stopping conditioned on metric `val_acc` which is not available. Available metrics are: loss,acc\n",
            "Epoch 43/50\n",
            "199/199 [==============================] - 8s 43ms/step - loss: 1.1127 - acc: 0.6900\n",
            "WARNING:tensorflow:Early stopping conditioned on metric `val_acc` which is not available. Available metrics are: loss,acc\n",
            "Epoch 44/50\n",
            "199/199 [==============================] - 9s 43ms/step - loss: 1.1433 - acc: 0.6825\n",
            "WARNING:tensorflow:Early stopping conditioned on metric `val_acc` which is not available. Available metrics are: loss,acc\n",
            "Epoch 45/50\n",
            "199/199 [==============================] - 9s 43ms/step - loss: 1.1590 - acc: 0.6780\n",
            "WARNING:tensorflow:Early stopping conditioned on metric `val_acc` which is not available. Available metrics are: loss,acc\n",
            "Epoch 46/50\n",
            "199/199 [==============================] - 8s 43ms/step - loss: 1.1907 - acc: 0.6696\n",
            "WARNING:tensorflow:Early stopping conditioned on metric `val_acc` which is not available. Available metrics are: loss,acc\n",
            "Epoch 47/50\n",
            "199/199 [==============================] - 9s 43ms/step - loss: 1.2015 - acc: 0.6675\n",
            "WARNING:tensorflow:Early stopping conditioned on metric `val_acc` which is not available. Available metrics are: loss,acc\n",
            "Epoch 48/50\n",
            "199/199 [==============================] - 9s 43ms/step - loss: 1.1853 - acc: 0.6714\n",
            "WARNING:tensorflow:Early stopping conditioned on metric `val_acc` which is not available. Available metrics are: loss,acc\n",
            "Epoch 49/50\n",
            "199/199 [==============================] - 9s 43ms/step - loss: 1.1909 - acc: 0.6700\n",
            "WARNING:tensorflow:Early stopping conditioned on metric `val_acc` which is not available. Available metrics are: loss,acc\n",
            "Epoch 50/50\n",
            "199/199 [==============================] - 9s 43ms/step - loss: 1.1830 - acc: 0.6733\n",
            "WARNING:tensorflow:Early stopping conditioned on metric `val_acc` which is not available. Available metrics are: loss,acc\n"
          ],
          "name": "stdout"
        },
        {
          "output_type": "execute_result",
          "data": {
            "text/plain": [
              "<tensorflow.python.keras.callbacks.History at 0x7f77d97b2a90>"
            ]
          },
          "metadata": {
            "tags": []
          },
          "execution_count": 25
        }
      ]
    },
    {
      "cell_type": "code",
      "metadata": {
        "colab": {
          "base_uri": "https://localhost:8080/"
        },
        "id": "-AdsErZF8suW",
        "outputId": "e4570feb-ddbb-4ac5-8aaa-701195913dc7"
      },
      "source": [
        "#Predicting Part\n",
        "seed_text = \"I could not help laughing at the ease with which he explained his process of deduction\"\n",
        "next_words = 100\n",
        "for _ in range(next_words):\n",
        "  sequence = tokenizer.texts_to_sequences([seed_text])\n",
        "  padded = pad_sequences(sequence, maxlen=max_seq_len-1)\n",
        "  predicted = model.predict_classes(padded, verbose=0)\n",
        "  output_word = ''\n",
        "  for word, index in tokenizer.word_index.items():\n",
        "    if index == predicted:\n",
        "      output_word = word\n",
        "      break\n",
        "  seed_text = seed_text + \" \" + output_word\n",
        "print(seed_text)"
      ],
      "execution_count": 40,
      "outputs": [
        {
          "output_type": "stream",
          "text": [
            "/usr/local/lib/python3.7/dist-packages/tensorflow/python/keras/engine/sequential.py:455: UserWarning: `model.predict_classes()` is deprecated and will be removed after 2021-01-01. Please use instead:* `np.argmax(model.predict(x), axis=-1)`,   if your model does multi-class classification   (e.g. if it uses a `softmax` last-layer activation).* `(model.predict(x) > 0.5).astype(\"int32\")`,   if your model does binary classification   (e.g. if it uses a `sigmoid` last-layer activation).\n",
            "  warnings.warn('`model.predict_classes()` is deprecated and '\n"
          ],
          "name": "stderr"
        },
        {
          "output_type": "stream",
          "text": [
            "I could not help laughing at the ease with which he explained his process of deduction that is for i have been obliged to work out the house in the morning when the house had been so that he is the precious stone the stone is a bad face been for a most day house to if you wish to it it is it ’ i said when i had been been my had lost so so i by my mind that my boy was out to do it to be ’ said he and i can to do so so to say ’ i said when the police it is a by a large “g”\n"
          ],
          "name": "stdout"
        }
      ]
    },
    {
      "cell_type": "code",
      "metadata": {
        "id": "Zw3gWxUKAHkB"
      },
      "source": [
        ""
      ],
      "execution_count": null,
      "outputs": []
    }
  ]
}